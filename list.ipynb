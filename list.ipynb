{
 "cells": [
  {
   "cell_type": "markdown",
   "id": "3c31f316-16ab-4cdc-8b61-7859d533d90f",
   "metadata": {},
   "source": [
    "### list\n",
    "- list is a collection of different datatype values(hetrogenous)\n",
    "- list is enclosed with '[]'\n",
    "- list is a ordered sequence datatype\n",
    "- list is index based and slicable\n",
    "- list allow duplicate values and it is mutable"
   ]
  },
  {
   "cell_type": "code",
   "execution_count": 1,
   "id": "5823c4a2-fa45-40d5-9cab-240c431f86f9",
   "metadata": {},
   "outputs": [
    {
     "data": {
      "text/plain": [
       "[]"
      ]
     },
     "execution_count": 1,
     "metadata": {},
     "output_type": "execute_result"
    }
   ],
   "source": [
    "#creating empty list using []\n",
    "lst=[]\n",
    "lst"
   ]
  },
  {
   "cell_type": "code",
   "execution_count": 2,
   "id": "9502c488-c1a8-468b-93be-f01f177fab94",
   "metadata": {},
   "outputs": [
    {
     "data": {
      "text/plain": [
       "[]"
      ]
     },
     "execution_count": 2,
     "metadata": {},
     "output_type": "execute_result"
    }
   ],
   "source": [
    "#creating empty list using list()\n",
    "lst1=list()\n",
    "lst1"
   ]
  },
  {
   "cell_type": "code",
   "execution_count": 3,
   "id": "a314e315-69de-4410-bd17-301e47a35c1d",
   "metadata": {},
   "outputs": [
    {
     "data": {
      "text/plain": [
       "'hi'"
      ]
     },
     "execution_count": 3,
     "metadata": {},
     "output_type": "execute_result"
    }
   ],
   "source": [
    "lst=[1,2,3,'hi','ab',23.5,1,3]\n",
    "#forward indexing\n",
    "lst[3]"
   ]
  },
  {
   "cell_type": "code",
   "execution_count": 4,
   "id": "6874d8c1-c2a5-4677-b3a6-a0e2196bdb29",
   "metadata": {},
   "outputs": [
    {
     "data": {
      "text/plain": [
       "23.5"
      ]
     },
     "execution_count": 4,
     "metadata": {},
     "output_type": "execute_result"
    }
   ],
   "source": [
    "#backward indexing\n",
    "lst[-3]"
   ]
  },
  {
   "cell_type": "code",
   "execution_count": 5,
   "id": "395622e7-519a-46da-8b5d-6098b9a9fa33",
   "metadata": {},
   "outputs": [
    {
     "name": "stdout",
     "output_type": "stream",
     "text": [
      "[100, 2, 3, 'hi', 'ab', 23.5, 1, 3]\n"
     ]
    }
   ],
   "source": [
    "#mutable operator\n",
    "lst[0]=100\n",
    "print(lst)"
   ]
  },
  {
   "cell_type": "code",
   "execution_count": 6,
   "id": "d27b817b-947e-4a4c-b4a0-fdf16031b51d",
   "metadata": {},
   "outputs": [
    {
     "data": {
      "text/plain": [
       "['n', 'e', 'h', 'a']"
      ]
     },
     "execution_count": 6,
     "metadata": {},
     "output_type": "execute_result"
    }
   ],
   "source": [
    "#string to list conversion\n",
    "s='neha'\n",
    "l=list(s)\n",
    "l"
   ]
  },
  {
   "cell_type": "code",
   "execution_count": 1,
   "id": "429b251c-d3a0-4115-9716-0b1ef7468499",
   "metadata": {},
   "outputs": [
    {
     "name": "stdin",
     "output_type": "stream",
     "text": [
      " 1 2 3 4\n",
      " 1.9 2.9 9.0 4.\n",
      " hi ni\n"
     ]
    }
   ],
   "source": [
    "#reading an input from user\n",
    "a=list(map(int,input().split()))#int datatype\n",
    "a=list(map(float,input().split()))#float datatype\n",
    "a=list(map(str,input().split()))#string datatype\n",
    "       "
   ]
  },
  {
   "cell_type": "code",
   "execution_count": 2,
   "id": "7b9e7f5e-0266-44f4-bfb6-db64142f4a40",
   "metadata": {},
   "outputs": [
    {
     "name": "stdout",
     "output_type": "stream",
     "text": [
      "[1, 2, 3, 4, 5, 6]\n"
     ]
    }
   ],
   "source": [
    "### List concatenation \n",
    "l1=[1,2,3]\n",
    "l2=[4,5,6]\n",
    "print(l1+l2)"
   ]
  },
  {
   "cell_type": "code",
   "execution_count": 4,
   "id": "34be432d-f806-42a7-aae4-932f8f7269f5",
   "metadata": {},
   "outputs": [
    {
     "ename": "TypeError",
     "evalue": "can only concatenate list (not \"int\") to list",
     "output_type": "error",
     "traceback": [
      "\u001b[31m---------------------------------------------------------------------------\u001b[39m",
      "\u001b[31mTypeError\u001b[39m                                 Traceback (most recent call last)",
      "\u001b[36mCell\u001b[39m\u001b[36m \u001b[39m\u001b[32mIn[4]\u001b[39m\u001b[32m, line 4\u001b[39m\n\u001b[32m      2\u001b[39m l1=[\u001b[32m1\u001b[39m,\u001b[32m2\u001b[39m,\u001b[32m3\u001b[39m]\u001b[38;5;66;03m#list datatype\u001b[39;00m\n\u001b[32m      3\u001b[39m l2=\u001b[32m45\u001b[39m \u001b[38;5;66;03m#int datatype\u001b[39;00m\n\u001b[32m----> \u001b[39m\u001b[32m4\u001b[39m \u001b[38;5;28mprint\u001b[39m(\u001b[43ml1\u001b[49m\u001b[43m+\u001b[49m\u001b[43ml2\u001b[49m)\n",
      "\u001b[31mTypeError\u001b[39m: can only concatenate list (not \"int\") to list"
     ]
    }
   ],
   "source": [
    "### List concatenation \n",
    "l1=[1,2,3]#list datatype\n",
    "l2=45 #int datatype\n",
    "print(l1+l2)"
   ]
  },
  {
   "cell_type": "code",
   "execution_count": 5,
   "id": "91d63c2d-4ccb-45c5-8943-d22fea98c1be",
   "metadata": {},
   "outputs": [
    {
     "name": "stdout",
     "output_type": "stream",
     "text": [
      "[1, 2, 3, 45]\n"
     ]
    }
   ],
   "source": [
    "### List concatenation \n",
    "l1=[1,2,3]#list datatype\n",
    "l2=[45] #int datatype\n",
    "print(l1+l2)"
   ]
  },
  {
   "cell_type": "code",
   "execution_count": 7,
   "id": "9b7bbc6a-b6f3-4256-875c-79779dd0032c",
   "metadata": {},
   "outputs": [
    {
     "name": "stdout",
     "output_type": "stream",
     "text": [
      "[1, 2, 3, 1, 2, 3, 1, 2, 3, 1, 2, 3]\n"
     ]
    }
   ],
   "source": [
    "#list repetation using '*'\n",
    "l1=[1,2,3]\n",
    "print(l1*4)"
   ]
  },
  {
   "cell_type": "markdown",
   "id": "2dad83cb-234d-4828-916b-2223c479f284",
   "metadata": {},
   "source": [
    "## list methods\n",
    "- append(value) : It adds single value at end of the list\n",
    "- extend(iterable) : It add iterable values at end of the list\n",
    "- insert(position,value) : Adds value at specified position followed by values are right shifted\n",
    "- remove(value) : It removes the values at first occurence position\n",
    "- pop() : Returns and removes the pop value as per specified position otherwisse the last value\n",
    "- clear() : Removes all elements from the list\n",
    "- del() : Removes the list\n",
    "- index(value) : Returns the first position of value otherwise valueError\n",
    "- count(value) : Returns the total occurance of a value in the list\n",
    "- sort() - it sorts the original list in particular order\n",
    "- reverse() - it reverses the original list in reverse order\n",
    "- sorted() - it sort the list in particular order and it returns new sorted list of values\n",
    "  ### python methods\n",
    "- len(list_name) : Total no.of elements from the list\n",
    "- min(list_name) : Returns the min value from the list\n",
    "- max(list_name) : Returns the max value from the list\n",
    "- sum(list_name) : Returns the sum of all elements in the list"
   ]
  },
  {
   "cell_type": "code",
   "execution_count": 9,
   "id": "4e9bbd10-bd61-45d1-87de-e10313e0bd63",
   "metadata": {},
   "outputs": [
    {
     "data": {
      "text/plain": [
       "[1, 2, 3, 4.4, 9.0, 'hi', 'a', 1, 2, 3, 100]"
      ]
     },
     "execution_count": 9,
     "metadata": {},
     "output_type": "execute_result"
    }
   ],
   "source": [
    "\n",
    "#append\n",
    "l=[1,2,3,4.4,9.0,'hi','a',1,2,3]\n",
    "l.append(100)\n",
    "l"
   ]
  },
  {
   "cell_type": "code",
   "execution_count": 29,
   "id": "b2673d76-47b0-4cb2-b177-2f383256c101",
   "metadata": {},
   "outputs": [
    {
     "data": {
      "text/plain": [
       "[1, 2, 3, 4.4, 9.0, 'hi', 'a', 1, 2, 3, 100, 200]"
      ]
     },
     "execution_count": 29,
     "metadata": {},
     "output_type": "execute_result"
    }
   ],
   "source": [
    "#extend\n",
    "l=[1,2,3,4.4,9.0,'hi','a',1,2,3]\n",
    "l.extend([100,200])\n",
    "l"
   ]
  },
  {
   "cell_type": "markdown",
   "id": "98796e0b-ef5f-4eab-8032-38a082c195b8",
   "metadata": {},
   "source": [
    "#insert\n",
    "l=[1,2,3,4.4,9.0,'hi','a',1,2,3]\n",
    "l.insert(4,'codegnan')\n",
    "l"
   ]
  },
  {
   "cell_type": "code",
   "execution_count": 19,
   "id": "19020231-a23d-46d2-899b-123621fc12f2",
   "metadata": {},
   "outputs": [
    {
     "name": "stdout",
     "output_type": "stream",
     "text": [
      "original list: [1, 2, 3, 4.4, 9.0, 'hi', 'a', 1, 2, 3]\n",
      "after remove: [1, 2, 4.4, 9.0, 'hi', 'a', 1, 2, 3]\n",
      "afer pop operation:  [1, 2, 4.4, 9.0, 'hi', 'a', 1, 2]\n",
      "afer pop operation with position :  [1, 2, 4.4, 'hi', 'a', 1, 2]\n",
      "afer delete operation:  [2, 4.4, 2]\n",
      "afer clear operation:  []\n",
      "None 3\n"
     ]
    }
   ],
   "source": [
    "#remove(),pop(),clear(),del()\n",
    "l=[1,2,3,4.4,9.0,'hi','a',1,2,3]\n",
    "print(\"original list:\",l)\n",
    "a=l.remove(3)#passes value , removes element but not return after removing\n",
    "print(\"after remove:\",l)\n",
    "b=l.pop() #by default removes last position value\n",
    "print(\"afer pop operation: \",l)\n",
    "l.pop(3)#passes position,returns the removed value from the list\n",
    "print(\"afer pop operation with position : \",l)\n",
    "del l[0]\n",
    "del l[2:5]\n",
    "print(\"afer delete operation: \",l)\n",
    "l.clear()#completely removes all elements from the list and returns empty list\n",
    "print(\"afer clear operation: \",l)\n",
    "print(a,b)"
   ]
  },
  {
   "cell_type": "code",
   "execution_count": 28,
   "id": "d48503c6-abf2-4416-aa74-bcf6682de2be",
   "metadata": {},
   "outputs": [
    {
     "name": "stdout",
     "output_type": "stream",
     "text": [
      "count of elements in list: 2\n",
      "length of the list : 8\n",
      "min value : 1\n",
      "max value : 69\n",
      "sum of elements in a list: 148\n"
     ]
    }
   ],
   "source": [
    "#count(value),len(),min(),max(),sum()\n",
    "#count(value)-returns the occurance of a specified value\n",
    "l=[1,2,3,4.4,9.0,'hi','a',1,2,3]\n",
    "print('count of elements in list:',l.count(1))\n",
    "#len(list_name)-returns no.of eleements in a list\n",
    "print('length of the list :',len(l1))\n",
    "#min(list_name)\n",
    "l1=[1,2,3,4,5,69,8,56]\n",
    "print('min value :',min(l1))\n",
    "#max(list_name)\n",
    "l1=[1,2,3,4,5,69,8,56]\n",
    "print('max value :',max(l1))\n",
    "#sum(list_name)\n",
    "l1=[1,2,3,4,5,69,8,56]\n",
    "print('sum of elements in a list:',sum(l1))"
   ]
  },
  {
   "cell_type": "code",
   "execution_count": 39,
   "id": "ca7a56cf-dec3-4bd8-adfc-fdd0978bbfd9",
   "metadata": {},
   "outputs": [
    {
     "name": "stdout",
     "output_type": "stream",
     "text": [
      "reverse the elements in the list : [56, 8, 69, 5, 4, 3, 2, 1]\n"
     ]
    }
   ],
   "source": [
    "#reverse() - it reverses the original list in reverse order \n",
    "l=[1,2,3,4,5,69,8,56]\n",
    "l.reverse()\n",
    "print('reverse the elements in the list :',l)"
   ]
  },
  {
   "cell_type": "code",
   "execution_count": 37,
   "id": "ae788469-edbe-4ca7-a870-fb72e8d3f966",
   "metadata": {},
   "outputs": [
    {
     "name": "stdout",
     "output_type": "stream",
     "text": [
      "sort the elements in the list : [1, 2, 3, 4, 5, 8, 56, 69]\n",
      "reverse the elements in the list : None\n"
     ]
    }
   ],
   "source": [
    "# sort() - it sorts the original list in particular order\n",
    "# ascending order sorting()\n",
    "l1=[1,2,3,4,5,69,8,56]\n",
    "l1.sort()\n",
    "print('sort the elements in the list :',l1)"
   ]
  },
  {
   "cell_type": "code",
   "execution_count": 40,
   "id": "29c1c7db-0374-40f5-9c4e-bf1050409fff",
   "metadata": {},
   "outputs": [
    {
     "name": "stdout",
     "output_type": "stream",
     "text": [
      "sort the elements in the list : [69, 56, 8, 5, 4, 3, 2, 1]\n"
     ]
    }
   ],
   "source": [
    "# descending order sorting()\n",
    "l1=[1,2,3,4,5,69,8,56]\n",
    "l1.sort(reverse= True)\n",
    "print('sort the elements in the list :',l1)"
   ]
  },
  {
   "cell_type": "code",
   "execution_count": 41,
   "id": "8304f06c-2b30-4fd8-905c-396dfc6025ed",
   "metadata": {},
   "outputs": [
    {
     "data": {
      "text/plain": [
       "[1, 2, 3, 4, 5, 8, 56, 69]"
      ]
     },
     "execution_count": 41,
     "metadata": {},
     "output_type": "execute_result"
    }
   ],
   "source": [
    "#sorted() - it creates new list after sorting but in sort(),it changes its position in original list\n",
    "l=[1,2,3,4,5,69,8,56]\n",
    "new_list=sorted(l)\n",
    "new_list"
   ]
  },
  {
   "cell_type": "code",
   "execution_count": 46,
   "id": "0b4d32dc-fc12-46d6-b118-ebedfc9d9892",
   "metadata": {},
   "outputs": [
    {
     "name": "stdout",
     "output_type": "stream",
     "text": [
      "69 value index:  5\n"
     ]
    },
    {
     "ename": "ValueError",
     "evalue": "99999 is not in list",
     "output_type": "error",
     "traceback": [
      "\u001b[31m---------------------------------------------------------------------------\u001b[39m",
      "\u001b[31mValueError\u001b[39m                                Traceback (most recent call last)",
      "\u001b[36mCell\u001b[39m\u001b[36m \u001b[39m\u001b[32mIn[46]\u001b[39m\u001b[32m, line 5\u001b[39m\n\u001b[32m      3\u001b[39m a=l.index(\u001b[32m69\u001b[39m)\u001b[38;5;66;03m#69 value is present in list l  it returns index value of 69\u001b[39;00m\n\u001b[32m      4\u001b[39m \u001b[38;5;28mprint\u001b[39m(\u001b[33m'\u001b[39m\u001b[33m69 value index: \u001b[39m\u001b[33m'\u001b[39m,a)\n\u001b[32m----> \u001b[39m\u001b[32m5\u001b[39m a=\u001b[43ml\u001b[49m\u001b[43m.\u001b[49m\u001b[43mindex\u001b[49m\u001b[43m(\u001b[49m\u001b[32;43m99999\u001b[39;49m\u001b[43m)\u001b[49m \u001b[38;5;66;03m#99999 is not found in list it returns ValueError\u001b[39;00m\n\u001b[32m      6\u001b[39m \u001b[38;5;28mprint\u001b[39m(\u001b[33m'\u001b[39m\u001b[33m99999 value index: \u001b[39m\u001b[33m'\u001b[39m,a)\n",
      "\u001b[31mValueError\u001b[39m: 99999 is not in list"
     ]
    }
   ],
   "source": [
    "#index(value)\n",
    "l=[1,2,3,4,5,69,8,56]\n",
    "a=l.index(69)#69 value is present in list l  it returns index value of 69\n",
    "print('69 value index: ',a)\n",
    "a=l.index(99999) #99999 is not found in list it returns ValueError\n",
    "print('99999 value index: ',a)"
   ]
  },
  {
   "cell_type": "code",
   "execution_count": 51,
   "id": "35a6bc2e-9232-4bfe-8391-4efe6d0e2241",
   "metadata": {},
   "outputs": [
    {
     "data": {
      "text/plain": [
       "6"
      ]
     },
     "execution_count": 51,
     "metadata": {},
     "output_type": "execute_result"
    }
   ],
   "source": [
    "#Nested list\n",
    "l=[1,2,23,[1,2,3],4,5]\n",
    "len(l)\n",
    "l[2[2]]"
   ]
  },
  {
   "cell_type": "code",
   "execution_count": 52,
   "id": "4f084476-1d52-4340-8ee4-01b337dab3de",
   "metadata": {},
   "outputs": [
    {
     "data": {
      "text/plain": [
       "-11"
      ]
     },
     "execution_count": 52,
     "metadata": {},
     "output_type": "execute_result"
    }
   ],
   "source": [
    "~10"
   ]
  },
  {
   "cell_type": "code",
   "execution_count": null,
   "id": "a17fb875-c3bd-44dd-ab63-9a3250558a3e",
   "metadata": {},
   "outputs": [],
   "source": [
    "l=[1,2,3]\n",
    "a=l.pop()\n",
    "print(a)"
   ]
  },
  {
   "cell_type": "code",
   "execution_count": null,
   "id": "69e6691b-5976-456b-a21f-7cbd6aa6496d",
   "metadata": {},
   "outputs": [],
   "source": []
  }
 ],
 "metadata": {
  "kernelspec": {
   "display_name": "Python 3 (ipykernel)",
   "language": "python",
   "name": "python3"
  },
  "language_info": {
   "codemirror_mode": {
    "name": "ipython",
    "version": 3
   },
   "file_extension": ".py",
   "mimetype": "text/x-python",
   "name": "python",
   "nbconvert_exporter": "python",
   "pygments_lexer": "ipython3",
   "version": "3.13.5"
  }
 },
 "nbformat": 4,
 "nbformat_minor": 5
}
