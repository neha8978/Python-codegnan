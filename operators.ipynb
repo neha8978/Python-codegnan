{
 "cells": [
  {
   "cell_type": "markdown",
   "id": "f022c10f-1d08-4ab0-bf0f-06099e53d057",
   "metadata": {},
   "source": [
    "### Operators -\n",
    "- operators are used to perform some operations on operands\n",
    "### Types of operators\n",
    "- arithmetic operator\n",
    "- comparision or relational operators\n",
    "- assignment operator\n",
    "- logical operator\n",
    "- bitwise operator\n",
    "- membership operator\n",
    "- identity operator\n",
    "  "
   ]
  },
  {
   "cell_type": "markdown",
   "id": "61ae9082-4611-4e66-8848-037c1442e638",
   "metadata": {},
   "source": [
    "### Arithmetic operators "
   ]
  },
  {
   "cell_type": "code",
   "execution_count": 4,
   "id": "de81ab3b-be74-46b6-9a69-b13e6add6ad7",
   "metadata": {},
   "outputs": [
    {
     "name": "stdin",
     "output_type": "stream",
     "text": [
      " 10\n",
      " 2\n"
     ]
    },
    {
     "name": "stdout",
     "output_type": "stream",
     "text": [
      "Addition of 2 numbers:  12\n",
      "subtraction of 2 numbers:  8\n",
      "multiplication of 2 numbers: 20\n",
      "exponential of 2 numbers:  100\n",
      "divison of 2 numbers:  5.0\n",
      "floor divison of 2 numbers:  5\n"
     ]
    }
   ],
   "source": [
    "a=int(input()) #intialising a\n",
    "b=int(input())#intialising b\n",
    "print('Addition of 2 numbers: ',a+b) # addition of 2 numbers\n",
    "print('subtraction of 2 numbers: ',a-b) # subtraction of 2 numbers\n",
    "print('multiplication of 2 numbers:',a*b) # multiplication of 2 numbers\n",
    "print('exponential of 2 numbers: ',a**b) #exponential of 2 numbers\n",
    "print('divison of 2 numbers: ',a/b)#division of 2 numbers\n",
    "print('floor divison of 2 numbers: ',a//b)#floor divison of 2 numbers"
   ]
  },
  {
   "cell_type": "markdown",
   "id": "5950cafa-6407-4a24-8284-eddc6e0cff5d",
   "metadata": {},
   "source": [
    "### Comparision operators"
   ]
  },
  {
   "cell_type": "code",
   "execution_count": 6,
   "id": "0af9977d-6a86-4ab0-91cf-354f3412cb6e",
   "metadata": {},
   "outputs": [
    {
     "name": "stdin",
     "output_type": "stream",
     "text": [
      " 10\n",
      " 2\n"
     ]
    },
    {
     "name": "stdout",
     "output_type": "stream",
     "text": [
      "True\n",
      "False\n",
      "True\n",
      "False\n",
      "False\n",
      "True\n"
     ]
    }
   ],
   "source": [
    "a=int(input()) #intialising a\n",
    "b=int(input())#intialising b\n",
    "print(a>b)#a greatherthan b\n",
    "print(a<b) #a lessthan b\n",
    "print(a>=b)#a greatherthanor equal to b\n",
    "print(a<=b) #a lessthan or equal to b\n",
    "print(a==b) #a equals to b or not\n",
    "print(a!=b) # a not equals to b"
   ]
  },
  {
   "cell_type": "markdown",
   "id": "d7eb83aa-a84c-4e7b-9e59-77d009ddfd0b",
   "metadata": {},
   "source": [
    "### Logical Operators"
   ]
  },
  {
   "cell_type": "code",
   "execution_count": 7,
   "id": "1e922ebb-a3c8-49c3-aaa0-7679bab860ce",
   "metadata": {},
   "outputs": [
    {
     "name": "stdin",
     "output_type": "stream",
     "text": [
      " 10\n",
      " 2\n"
     ]
    },
    {
     "name": "stdout",
     "output_type": "stream",
     "text": [
      "True\n",
      "False\n",
      "True\n",
      "False\n",
      "False\n",
      "True\n"
     ]
    }
   ],
   "source": [
    "a=int(input()) #intialising a\n",
    "b=int(input())#intialising b\n",
    "print(a>=b and a!=b)#and operator\n",
    "print(a>=b and a<=b)\n",
    "print(a>=b or a<=b)#or operator\n",
    "print(a<=b or a==b)\n",
    "print(not a!=b) #not operator\n",
    "print(not a==b)"
   ]
  },
  {
   "cell_type": "markdown",
   "id": "f9640fee-1ae2-4158-9418-415d706ff6b4",
   "metadata": {},
   "source": [
    "### Assignment Operators"
   ]
  },
  {
   "cell_type": "code",
   "execution_count": 10,
   "id": "fadadcf4-df41-432a-bab2-f7d09ea5ac13",
   "metadata": {},
   "outputs": [
    {
     "name": "stdin",
     "output_type": "stream",
     "text": [
      " 10\n",
      " 2\n"
     ]
    },
    {
     "name": "stdout",
     "output_type": "stream",
     "text": [
      "12\n",
      "10\n",
      "20\n",
      "2\n",
      "200.0\n",
      "100.0\n"
     ]
    }
   ],
   "source": [
    "a=int(input()) #intialising a\n",
    "b=int(input())#intialising b\n",
    "a+=2 #addition assignment\n",
    "print(a)\n",
    "a-=2#subtraction assigment\n",
    "print(a)\n",
    "a*=2#multiplication assignment\n",
    "print(a)\n",
    "a**=2 #exponential\n",
    "print(b)\n",
    "a/=2 #division assignment\n",
    "print(a)\n",
    "a//=2 #floor divison assignment\n",
    "print(a)\n"
   ]
  },
  {
   "cell_type": "markdown",
   "id": "be75c8fc-0f69-475e-a990-03453e3894fa",
   "metadata": {},
   "source": [
    "\n",
    "## Bitwise operator \n",
    "- it performs operation on binary bits ,it returns boolean return type\n",
    "- and & a&b\n",
    "- or  | a|b\n",
    "- not ~ a~b\n",
    "- xor ^ a^b\n",
    "- left shift   >>  a>>b\n",
    "- right shift  <<  a<<b\n"
   ]
  },
  {
   "cell_type": "code",
   "execution_count": 13,
   "id": "5db7178c-dfad-4aec-af0d-df217e40244e",
   "metadata": {},
   "outputs": [
    {
     "name": "stdin",
     "output_type": "stream",
     "text": [
      " 10\n",
      " 2\n"
     ]
    },
    {
     "name": "stdout",
     "output_type": "stream",
     "text": [
      "2\n",
      "False\n",
      "True\n",
      "10\n",
      "-11\n",
      "-3\n",
      "8\n",
      "5\n",
      "2\n",
      "20\n",
      "80\n"
     ]
    }
   ],
   "source": [
    "a=int(input())#intialising a\n",
    "b= int(input())#intialising b\n",
    "# Bitwise and (&)\n",
    "print(a&b)\n",
    "print(a==b & a!=b)\n",
    "print(a!=b & a >=b)\n",
    "#bitwise or (|)\n",
    "print(a | b)\n",
    "#bitwise not(~)\n",
    "print(~a)\n",
    "print(~b)\n",
    "#bitwise XOR(^)\n",
    "print(a^b) \n",
    "#left shift(>>)     /2\n",
    "print(a>>1) # a is a value , 1 is a bit that means no.of times we need to shift\n",
    "print(a>>2)\n",
    "#right shift\n",
    "print(a<<1)\n",
    "print(a<<3)"
   ]
  },
  {
   "cell_type": "markdown",
   "id": "f4fe8685-2ee7-4362-9480-2fa95eb73a60",
   "metadata": {},
   "source": [
    "### Membership operator\n",
    "- It checks whether the value is present in sequence or not\n",
    "- There are 2 types : in, not in"
   ]
  },
  {
   "cell_type": "markdown",
   "id": "f6abea09-14a1-4991-b77a-d71f9a05bcf4",
   "metadata": {},
   "source": [
    "### in "
   ]
  },
  {
   "cell_type": "code",
   "execution_count": 21,
   "id": "b2a80194-cbce-47e7-9e2b-9e429c148a1c",
   "metadata": {},
   "outputs": [
    {
     "name": "stdout",
     "output_type": "stream",
     "text": [
      "True\n",
      "False\n",
      "True\n",
      "False\n",
      "True\n"
     ]
    }
   ],
   "source": [
    "#list \n",
    "list=[1,2,7]\n",
    "print(2 in list)\n",
    "# set\n",
    "print(9 in {2,4,7}) \n",
    "#tuple\n",
    "print(9 in (2,9,2))\n",
    "#dictionary\n",
    "print(20 in{40:2,9:9,23:2})\n",
    "print('alias'in{'alias':8,'bob':6})"
   ]
  },
  {
   "cell_type": "markdown",
   "id": "dc78766a-f1d8-41ea-aa5b-aff9178b089a",
   "metadata": {},
   "source": [
    "### Not in"
   ]
  },
  {
   "cell_type": "code",
   "execution_count": 20,
   "id": "d1a6fbaf-010d-44ef-86dd-50bb2ddfa9d1",
   "metadata": {},
   "outputs": [
    {
     "name": "stdout",
     "output_type": "stream",
     "text": [
      "True\n",
      "True\n",
      "False\n",
      "True\n",
      "False\n"
     ]
    }
   ],
   "source": [
    "#tuple\n",
    "print(20 not in(3,5,55)) \n",
    "#list\n",
    "print(20 not in[2,7,8])\n",
    "#set\n",
    "print(3 not in{3,8,4})\n",
    "#dictionary\n",
    "print(6 not in {'alias':8,'bob':6})\n",
    "print('alias' not in{'alias':8,'bob':6})"
   ]
  },
  {
   "cell_type": "markdown",
   "id": "7a9bb8b5-466e-48cb-bd09-74b661e4033d",
   "metadata": {},
   "source": [
    "### identity operator\n",
    "- It checks the id of an object\n",
    "- there are two types: is,not is"
   ]
  },
  {
   "cell_type": "markdown",
   "id": "7bb3df65-dd4c-47e0-978b-058a0baf8757",
   "metadata": {},
   "source": [
    "### is"
   ]
  },
  {
   "cell_type": "code",
   "execution_count": 25,
   "id": "4bc3b06d-df6f-4cf0-8712-66f473af5fbc",
   "metadata": {},
   "outputs": [
    {
     "name": "stdout",
     "output_type": "stream",
     "text": [
      "s1 id : 2360745950976\n",
      "s2 id : 2360745950976\n",
      "True\n"
     ]
    }
   ],
   "source": [
    "s1=('abc') #assigning string s1\n",
    "s2=('abc') #assigning string s2\n",
    "print('s1 id :',id(s1))# printing id of string s1\n",
    "print('s2 id :',id(s2))#printing id of string s2\n",
    "print(s1 is s2)# s1 and s2 are same or not"
   ]
  },
  {
   "cell_type": "code",
   "execution_count": 27,
   "id": "effe50ee-d546-482d-8cb5-b558d446fa6f",
   "metadata": {},
   "outputs": [
    {
     "name": "stdout",
     "output_type": "stream",
     "text": [
      "2360745950976\n",
      "True\n",
      "True\n"
     ]
    }
   ],
   "source": [
    "s3=s2#assigning string s2 to s3\n",
    "print(id(s3))\n",
    "print(s3 is s1)# checking s3 and s1 are same or not\n",
    "print(s3 is s2) #checking s3 and s2 are same or not"
   ]
  },
  {
   "cell_type": "code",
   "execution_count": 29,
   "id": "06e96fc6-2b38-4f98-a27d-435fb3a4b3f1",
   "metadata": {},
   "outputs": [
    {
     "name": "stdout",
     "output_type": "stream",
     "text": [
      "2360843217472\n",
      "2360843221952\n",
      "False\n"
     ]
    }
   ],
   "source": [
    " l1={1,2,3} #assigning set l1\n",
    " l2={3,4,5} # assigning set l2\n",
    " print(id(l1))# checking id of l1\n",
    " print(id(l2))#checking id of l2\n",
    " print(l1 is l2)#checking ids of l1 and l2 are same or not"
   ]
  },
  {
   "cell_type": "markdown",
   "id": "b7366c48-0b81-4bcc-8bdb-3a4a2bc26882",
   "metadata": {},
   "source": [
    "### is not"
   ]
  },
  {
   "cell_type": "code",
   "execution_count": 30,
   "id": "caf785b6-aa83-4bbe-a0cc-f0173553101a",
   "metadata": {},
   "outputs": [
    {
     "name": "stdout",
     "output_type": "stream",
     "text": [
      "True\n",
      "False\n",
      "True\n"
     ]
    }
   ],
   "source": [
    "print(l1 is not l2)\n",
    "print(s1 is not s2)\n",
    "print(s3 is not l2)"
   ]
  }
 ],
 "metadata": {
  "kernelspec": {
   "display_name": "Python 3 (ipykernel)",
   "language": "python",
   "name": "python3"
  },
  "language_info": {
   "codemirror_mode": {
    "name": "ipython",
    "version": 3
   },
   "file_extension": ".py",
   "mimetype": "text/x-python",
   "name": "python",
   "nbconvert_exporter": "python",
   "pygments_lexer": "ipython3",
   "version": "3.13.5"
  }
 },
 "nbformat": 4,
 "nbformat_minor": 5
}
