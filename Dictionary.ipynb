{
 "cells": [
  {
   "cell_type": "markdown",
   "id": "b5362bbf-1749-4716-899e-1e2950d5f88f",
   "metadata": {},
   "source": [
    "### Dictionary\n",
    "- Dictionary is unordered collection of key value pairs\n",
    "- ' {key:value} '\n",
    "- In dictionary keys are unique and values allow duplicates\n",
    "- denoted with ' {} '\n",
    "- dictionary is non index base and non slicable\n",
    "- values are accessed with keys"
   ]
  },
  {
   "cell_type": "code",
   "execution_count": 6,
   "id": "46259268-e8d8-4e4b-8d93-9a3e5a3fcd04",
   "metadata": {},
   "outputs": [
    {
     "name": "stdout",
     "output_type": "stream",
     "text": [
      "dict_keys([1, 'A', 6, (1, 2), 5])\n",
      "dict_values(['a', 2, 4, 4, [1, 2, (3, 4), 5]])\n",
      "{1: 'a', 'A': 10, 6: 4, (1, 2): 4, 5: [1, 2, (3, 4), 5]}\n"
     ]
    },
    {
     "data": {
      "text/plain": [
       "10"
      ]
     },
     "execution_count": 6,
     "metadata": {},
     "output_type": "execute_result"
    }
   ],
   "source": [
    "d={1 : 'a','A':2, 6:4,(1,2):4,5:[1,2,(3,4),5]} # list is not hasable\n",
    "print(d.keys())\n",
    "print(d.values())\n",
    "#updating value\n",
    "d={1 : 'a','A':2, 6:4,(1,2):4,5:[1,2,(3,4),5],'A':10}\n",
    "print(d)\n"
   ]
  },
  {
   "cell_type": "code",
   "execution_count": 1,
   "id": "bc00384d-3833-46d2-bf65-76d7a321e05e",
   "metadata": {},
   "outputs": [
    {
     "name": "stdout",
     "output_type": "stream",
     "text": [
      "{}\n",
      "{}\n",
      "<class 'dict'> <class 'dict'>\n"
     ]
    }
   ],
   "source": [
    "#empty dictionary using dict()\n",
    "d=dict()\n",
    "print(d)\n",
    "#empty dictionary using {}\n",
    "d1={}\n",
    "print(d1)\n",
    "# type \n",
    "print(type(d),type(d1))"
   ]
  },
  {
   "cell_type": "code",
   "execution_count": 12,
   "id": "9390e5db-1812-448a-805b-1b9bbea3e02a",
   "metadata": {},
   "outputs": [
    {
     "name": "stdout",
     "output_type": "stream",
     "text": [
      "2\n",
      "4\n"
     ]
    }
   ],
   "source": [
    "#dictioary values accesing by using keys\n",
    "d={1 : 'a','A':2, 6:4,(1,2):4,5:[1,2,(3,4),5]}\n",
    "print(d['A'])\n",
    "print(d[(1,2)])"
   ]
  },
  {
   "cell_type": "markdown",
   "id": "89ee2b20-994a-4ee2-a5e9-ad4350c51da2",
   "metadata": {},
   "source": [
    "### dictionary  methods"
   ]
  },
  {
   "cell_type": "markdown",
   "id": "6db920d2-08a2-49d7-8df6-ba4280894a8f",
   "metadata": {},
   "source": [
    "- keys : Returns keys of dictionary\n",
    "- values : Returns values of dictionary\n",
    "- items() : returns list of tuple of key_value pairs\n",
    "- pop(key): returns the value of key if key is present in dictionary,otherwise Error\n",
    "- popitem():returns and removes that last updated in dictionary\n",
    "- get(key,default) : returns value of key otherwise default value\n",
    "- update(dictionary) :It updates dictionary with new items\n",
    "- clear(): remove all items from dictionary"
   ]
  },
  {
   "cell_type": "code",
   "execution_count": 3,
   "id": "2713e478-1b56-44a0-a6ff-afae212d956c",
   "metadata": {},
   "outputs": [
    {
     "name": "stdout",
     "output_type": "stream",
     "text": [
      "dict_keys(['language', 'version', 'level'])\n",
      "dict_values(['python', '3.13.5', 'High level'])\n",
      "dict_items([('language', 'python'), ('version', '3.13.5'), ('level', 'High level')])\n",
      "<class 'dict_keys'> <class 'dict_values'> <class 'dict_items'>\n"
     ]
    }
   ],
   "source": [
    "d={'language':'python','version':'3.13.5','level':'High level'}\n",
    "keys=d.keys()\n",
    "values=d.values()\n",
    "items=d.items()\n",
    "print(keys)\n",
    "print(values)\n",
    "print(items)\n",
    "print(type(keys),type(values),type(items))"
   ]
  },
  {
   "cell_type": "code",
   "execution_count": 5,
   "id": "4fef2b19-75f3-4712-9ae8-38c61a3f49b6",
   "metadata": {},
   "outputs": [
    {
     "name": "stdout",
     "output_type": "stream",
     "text": [
      "3.13.5\n",
      "{'language': 'python', 'level': 'High level'}\n"
     ]
    }
   ],
   "source": [
    "## pop(key)\n",
    "d={'language':'python','version':'3.13.5','level':'High level'}\n",
    "val=d.pop('version')\n",
    "print(val)\n",
    "print(d)"
   ]
  },
  {
   "cell_type": "code",
   "execution_count": 6,
   "id": "e1150758-15eb-44b9-9661-669d0f25e3a7",
   "metadata": {},
   "outputs": [
    {
     "name": "stdout",
     "output_type": "stream",
     "text": [
      "{'language': 'python', 'version': '3.13.5', 'level': 'High level', 1: 1, 'b': 2}\n"
     ]
    }
   ],
   "source": [
    "d={'language':'python','version':'3.13.5','level':'High level',1:1,'b':2}\n",
    "print(d)"
   ]
  },
  {
   "cell_type": "code",
   "execution_count": 7,
   "id": "a8b79ff2-45eb-427b-bc38-db5301d767b1",
   "metadata": {},
   "outputs": [
    {
     "name": "stdout",
     "output_type": "stream",
     "text": [
      "('level', 'High level')\n",
      "{'language': 'python', 'version': '3.13.5'}\n"
     ]
    }
   ],
   "source": [
    "#popitem()\n",
    "d={'language':'python','version':'3.13.5','level':'High level'}\n",
    "item=d.popitem()\n",
    "print(item)\n",
    "print(d)"
   ]
  },
  {
   "cell_type": "code",
   "execution_count": 10,
   "id": "5654565d-3748-4bc2-9732-8eb46af36399",
   "metadata": {},
   "outputs": [
    {
     "name": "stdout",
     "output_type": "stream",
     "text": [
      "python\n",
      "{'language': 'java', 'version': '3.13.5', 'level': 'High level', 'A': 1}\n"
     ]
    }
   ],
   "source": [
    "## accessing & updating values\n",
    "d={'language':'python','version':'3.13.5','level':'High level'}\n",
    "print(d['language'])\n",
    "d['A']=1\n",
    "d['language']='java'\n",
    "print(d)"
   ]
  },
  {
   "cell_type": "code",
   "execution_count": 12,
   "id": "f663d9de-51c1-4e99-af49-05c2aa1b9d28",
   "metadata": {},
   "outputs": [
    {
     "name": "stdout",
     "output_type": "stream",
     "text": [
      "3.13.5\n",
      "key not in dictionary\n"
     ]
    }
   ],
   "source": [
    "##get(key,default)\n",
    "d={'language':'python','version':'3.13.5','level':'High level'}\n",
    "val=d.get('version','key not in dictionary')\n",
    "print(val)\n",
    "val1=d.get('v','key not in dictionary')\n",
    "print(val1)"
   ]
  },
  {
   "cell_type": "code",
   "execution_count": 16,
   "id": "1f3cfafe-7656-4521-bfb1-0ba3f880d756",
   "metadata": {},
   "outputs": [
    {
     "name": "stdout",
     "output_type": "stream",
     "text": [
      "{'language': 'java', 'level': 'High level'}\n",
      "{'language': 'java', 'version': '3.13.5', 'level': 'High level'}\n"
     ]
    }
   ],
   "source": [
    "## update(dictionary)\n",
    "d={'language':'python','version':'3.13.5','level':'High level'}\n",
    "d1={'language': 'java','level': 'High level'}\n",
    "d.update(d1)\n",
    "print(d1)\n",
    "print(d)"
   ]
  },
  {
   "cell_type": "code",
   "execution_count": 22,
   "id": "7ab8de8b-28ff-4161-868e-24c47a4ae4ee",
   "metadata": {},
   "outputs": [
    {
     "name": "stdout",
     "output_type": "stream",
     "text": [
      "{}\n"
     ]
    }
   ],
   "source": [
    "## clear()\n",
    "d={'language': 'java', 'version': '3.13.5', 'level': 'High level'}\n",
    "d.clear()\n",
    "print(d)"
   ]
  },
  {
   "cell_type": "code",
   "execution_count": null,
   "id": "1323cb6c-2797-45dd-a8e7-8364bdafe418",
   "metadata": {},
   "outputs": [],
   "source": [
    "d={'a':[1,2,3,4,"
   ]
  }
 ],
 "metadata": {
  "kernelspec": {
   "display_name": "Python 3 (ipykernel)",
   "language": "python",
   "name": "python3"
  },
  "language_info": {
   "codemirror_mode": {
    "name": "ipython",
    "version": 3
   },
   "file_extension": ".py",
   "mimetype": "text/x-python",
   "name": "python",
   "nbconvert_exporter": "python",
   "pygments_lexer": "ipython3",
   "version": "3.13.5"
  }
 },
 "nbformat": 4,
 "nbformat_minor": 5
}
