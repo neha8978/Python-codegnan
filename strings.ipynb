{
 "cells": [
  {
   "cell_type": "markdown",
   "id": "93cf013e-d7ef-4fb7-832f-8baa61fa96e1",
   "metadata": {},
   "source": [
    "### string\n",
    "- string is a collection of characters\n",
    "- string is enclosed with '' or \"\"\n",
    "- string is immutable(means after creation we cannot modify)\n",
    "- strings are index based and slicing"
   ]
  },
  {
   "cell_type": "code",
   "execution_count": 1,
   "id": "952c7598-8213-4ffb-9a47-46c70d264db2",
   "metadata": {},
   "outputs": [
    {
     "name": "stdout",
     "output_type": "stream",
     "text": [
      "h\n",
      "e\n",
      "l\n",
      "l\n",
      "o\n"
     ]
    }
   ],
   "source": [
    "#forward indexing\n",
    "string='hello'\n",
    "print(string[0])\n",
    "print(string[1])\n",
    "print(string[2])\n",
    "print(string[3])\n",
    "print(string[4])"
   ]
  },
  {
   "cell_type": "code",
   "execution_count": 2,
   "id": "16eb7abb-9848-465c-a26b-405116dcb924",
   "metadata": {},
   "outputs": [
    {
     "name": "stdout",
     "output_type": "stream",
     "text": [
      "o\n",
      "l\n",
      "l\n",
      "e\n",
      "h\n"
     ]
    }
   ],
   "source": [
    "#backward indexing\n",
    "print(string[-1])\n",
    "print(string[-2])\n",
    "print(string[-3])\n",
    "print(string[-4])\n",
    "print(string[-5])"
   ]
  },
  {
   "cell_type": "code",
   "execution_count": 3,
   "id": "86086696-08cf-4caf-866c-ab54f380bf84",
   "metadata": {},
   "outputs": [
    {
     "name": "stdout",
     "output_type": "stream",
     "text": [
      "hello\n",
      "hel\n",
      "lo\n",
      "ello\n",
      "eo\n",
      "el\n",
      "hlo\n",
      "o\n",
      "llo\n",
      "he\n"
     ]
    }
   ],
   "source": [
    "#slicing\n",
    "print(string[:])\n",
    "print(string[:3])\n",
    "print(string[3:])\n",
    "print(string[1:5])\n",
    "print(string[1:5:3])#[start:end:step]\n",
    "print(string[1:5:2])\n",
    "print(string[0:5:2])\n",
    "print(string[-1:])\n",
    "print(string[-3:])\n",
    "print(string[:-3])"
   ]
  },
  {
   "cell_type": "code",
   "execution_count": 4,
   "id": "8181446c-4648-4659-8ef1-21c4781a851f",
   "metadata": {},
   "outputs": [
    {
     "name": "stdout",
     "output_type": "stream",
     "text": [
      "olleh\n"
     ]
    }
   ],
   "source": [
    "#string reversal using slicing\n",
    "print(string[: : -1])"
   ]
  },
  {
   "cell_type": "code",
   "execution_count": 6,
   "id": "a1132b6c-2e0a-418e-93d2-b167fa5f7635",
   "metadata": {},
   "outputs": [
    {
     "name": "stdout",
     "output_type": "stream",
     "text": [
      "hellowelcome\n",
      "hello welcome\n"
     ]
    }
   ],
   "source": [
    " #string concatenation using + operator\n",
    "s1='hello'\n",
    "s2='welcome'\n",
    "print(s1+s2)\n",
    "print(s1+' '+s2)"
   ]
  },
  {
   "cell_type": "code",
   "execution_count": 8,
   "id": "44463651-cc27-4799-86b5-b2d379af6512",
   "metadata": {},
   "outputs": [
    {
     "name": "stdout",
     "output_type": "stream",
     "text": [
      "nehanehaneha\n",
      "*\n",
      "**\n",
      "***\n",
      "****\n"
     ]
    }
   ],
   "source": [
    "#repetation of string using *\n",
    "s1='neha'\n",
    "print(s1*3)\n",
    "s2='*'\n",
    "print(s2*1)\n",
    "print(s2*2)\n",
    "print(s2*3)\n",
    "print(s2*4)"
   ]
  },
  {
   "cell_type": "markdown",
   "id": "efa331dd-a4d1-4a72-9c17-de3f044b43e8",
   "metadata": {},
   "source": [
    "### string case conversion\n",
    "- upper() :converts string into uppercase\n",
    "- lower() :converts string into lowercase\n",
    "- swapcase() :converts upper case into lowercase and lower into upper\n",
    "- title() :converts every first letter of each word into uppercase\n",
    "- capitalize() :converts first letter only into upper case"
   ]
  },
  {
   "cell_type": "code",
   "execution_count": 9,
   "id": "3536db50-e03e-4c85-b9d0-7998711da902",
   "metadata": {},
   "outputs": [
    {
     "name": "stdout",
     "output_type": "stream",
     "text": [
      "NEHA\n",
      "neha\n",
      "NehA\n",
      "Hello Welcome To My World\n",
      "Hello welcome to my world\n"
     ]
    }
   ],
   "source": [
    "string = 'nEHa'\n",
    "#uppercase conversion\n",
    "print(string.upper())\n",
    "#lowercase conversion\n",
    "print(string.lower())\n",
    "#swapcase conversion\n",
    "print(string.swapcase())\n",
    "#title \n",
    "a='hello welcome to my world'\n",
    "print(a.title())\n",
    "#capatalize \n",
    "print(a.capitalize())"
   ]
  },
  {
   "cell_type": "markdown",
   "id": "7b29537d-d2a7-432d-9747-1e43164038c2",
   "metadata": {},
   "source": [
    "### Removing whitespaces\n",
    "- strip() : It removes leading and lagging spaces\n",
    "- lstrip() : It removes leading whitespaces\n",
    "- rstrip() : It removes lagging whitespaces"
   ]
  },
  {
   "cell_type": "code",
   "execution_count": 12,
   "id": "fb8544c1-9a39-4367-9f11-bae7cd3e37b6",
   "metadata": {},
   "outputs": [
    {
     "name": "stdout",
     "output_type": "stream",
     "text": [
      "         \n"
     ]
    }
   ],
   "source": [
    "print('         ')"
   ]
  },
  {
   "cell_type": "code",
   "execution_count": 14,
   "id": "194f9e68-051b-427b-b1d7-9d74ba27d875",
   "metadata": {},
   "outputs": [
    {
     "name": "stdout",
     "output_type": "stream",
     "text": [
      "    abc    \n",
      "abc\n",
      "abc    \n",
      "    abc\n",
      "@@@abc@de@@@\n",
      "abc@de\n",
      "abc@de@@@\n",
      "@@@abc@de\n"
     ]
    }
   ],
   "source": [
    "s='    abc    '\n",
    "print(s)\n",
    "print(s.strip())\n",
    "print(s.lstrip())\n",
    "print(s.rstrip())\n",
    "s='@@@abc@de@@@'\n",
    "print(s)\n",
    "print(s.strip('@'))\n",
    "print(s.lstrip('@'))\n",
    "print(s.rstrip('@'))"
   ]
  },
  {
   "cell_type": "markdown",
   "id": "97e0dd97-278a-45b0-a7ab-059ec5e0701e",
   "metadata": {},
   "source": [
    "### Split()\n",
    "- split() converts strings into list of substrings as per the delimiter\n",
    "- syntax : split( delimiter=optional)\n",
    "- it returns list datatype"
   ]
  },
  {
   "cell_type": "code",
   "execution_count": 17,
   "id": "067759ef-e2c1-497b-8d7a-2945944d1ad1",
   "metadata": {},
   "outputs": [
    {
     "data": {
      "text/plain": [
       "['I', 'am', 'a', 'python', 'programmer']"
      ]
     },
     "execution_count": 17,
     "metadata": {},
     "output_type": "execute_result"
    }
   ],
   "source": [
    "#creating string\n",
    "string=\"I am a python programmer\"\n",
    "string.split()#by default it takes space to split"
   ]
  },
  {
   "cell_type": "code",
   "execution_count": 19,
   "id": "7a08a8cb-41a3-43e6-aebe-84c2948eecb0",
   "metadata": {},
   "outputs": [
    {
     "data": {
      "text/plain": [
       "['I ', 'm ', ' python progr', 'mmer']"
      ]
     },
     "execution_count": 19,
     "metadata": {},
     "output_type": "execute_result"
    }
   ],
   "source": [
    "string.split('a')"
   ]
  },
  {
   "cell_type": "code",
   "execution_count": 20,
   "id": "64ae6436-f232-4cd4-a5f6-44b15394d8ac",
   "metadata": {},
   "outputs": [
    {
     "data": {
      "text/plain": [
       "['I am a ', 'ython ', 'rogrammer']"
      ]
     },
     "execution_count": 20,
     "metadata": {},
     "output_type": "execute_result"
    }
   ],
   "source": [
    "string.split('p')"
   ]
  },
  {
   "cell_type": "markdown",
   "id": "50326204-9d6d-474e-a9ce-d0ab9252d048",
   "metadata": {},
   "source": [
    "### join()\n",
    "- It joins all iterable values into single string within a seperator value"
   ]
  },
  {
   "cell_type": "code",
   "execution_count": 25,
   "id": "28144924-1093-4186-a8ff-902771fb3616",
   "metadata": {},
   "outputs": [
    {
     "name": "stdout",
     "output_type": "stream",
     "text": [
      "iamapythonprogrammer\n",
      "i am a python programmer\n",
      "i@am@a@python@programmer\n",
      "iABCamABCaABCpythonABCprogrammer\n"
     ]
    }
   ],
   "source": [
    "lst=['i','am','a','python','programmer']\n",
    "print(''.join(lst))\n",
    "print(' '.join(lst))\n",
    "print('@'.join(lst))\n",
    "print('ABC'.join(lst))"
   ]
  },
  {
   "cell_type": "markdown",
   "id": "aef5803a-8a64-4bed-b3ad-4381d25a5528",
   "metadata": {},
   "source": [
    "### find(substring) \n",
    "- it returns the first  position of substring occurence in the string otherwise -1\n",
    "### Index(substring) \n",
    "-it returns lower or first position of substring occurence in the string otherwise Value Error\n",
    "### Replace(old,new) \n",
    "-it replaces old substring with new substring in  all occurences"
   ]
  },
  {
   "cell_type": "code",
   "execution_count": 29,
   "id": "f456bd7e-9db7-436b-9dc1-23abcbfe8db5",
   "metadata": {},
   "outputs": [
    {
     "name": "stdout",
     "output_type": "stream",
     "text": [
      "2\n",
      "7\n",
      "11\n"
     ]
    }
   ],
   "source": [
    "#find()\n",
    "string=\"I am a python programmer\"\n",
    "print(string.find('a'))\n",
    "print(string.find('p'))\n",
    "print(string.find('o'))"
   ]
  },
  {
   "cell_type": "code",
   "execution_count": 31,
   "id": "99ee6b04-23b5-4ab5-9649-a6f78122952d",
   "metadata": {},
   "outputs": [
    {
     "name": "stdout",
     "output_type": "stream",
     "text": [
      "2\n",
      "7\n",
      "15\n"
     ]
    }
   ],
   "source": [
    "#index()\n",
    "string=\"I am a python programmer\"\n",
    "print(string.find('a'))\n",
    "print(string.find('p'))\n",
    "print(string.find('r'))"
   ]
  },
  {
   "cell_type": "code",
   "execution_count": 33,
   "id": "9e73fe7c-a427-4c38-acb2-795d4ccef8bf",
   "metadata": {},
   "outputs": [
    {
     "name": "stdout",
     "output_type": "stream",
     "text": [
      "I am a python developer\n",
      "I am a cpython cprogrammer\n"
     ]
    }
   ],
   "source": [
    "#replace()\n",
    "string=\"I am a python programmer\"\n",
    "print(string.replace('programmer','developer'))\n",
    "print(string.replace('p','cp'))"
   ]
  },
  {
   "cell_type": "markdown",
   "id": "c3b8fef4-ccb5-4bb3-bdfa-d253c1bfab9d",
   "metadata": {},
   "source": [
    "### checking functions\n",
    "- isalpha :Return true if string contain all alphabets\n",
    "- isalnum :Return true if string contain alphabets or numbers\n",
    "- isdigit :Return true if string contain all numbers"
   ]
  },
  {
   "cell_type": "code",
   "execution_count": 35,
   "id": "7fdf9381-3387-4d21-9051-c06aa1cd2266",
   "metadata": {},
   "outputs": [
    {
     "name": "stdout",
     "output_type": "stream",
     "text": [
      "False True False\n",
      "True True False\n",
      "False True True\n",
      "False False False\n"
     ]
    }
   ],
   "source": [
    "string1 = 'abc123'\n",
    "string2 = 'abc'\n",
    "string3 = '123'\n",
    "string4 = 'abc@1'\n",
    "print(string1.isalpha(),string1.isalnum(),string1.isdigit())\n",
    "print(string2.isalpha(),string2.isalnum(),string2.isdigit())\n",
    "print(string3.isalpha(),string3.isalnum(),string3.isdigit())\n",
    "print(string4.isalpha(),string4.isalnum(),string4.isdigit())"
   ]
  },
  {
   "cell_type": "markdown",
   "id": "9fe9ac76-17d4-4038-a063-ecf4c32d1792",
   "metadata": {},
   "source": [
    "### String comparision\n",
    "- it compares with lexographical order"
   ]
  },
  {
   "cell_type": "code",
   "execution_count": 36,
   "id": "28c554fc-afb0-4c0b-bef4-55488caa72f2",
   "metadata": {},
   "outputs": [
    {
     "name": "stdout",
     "output_type": "stream",
     "text": [
      "False\n",
      "True\n"
     ]
    }
   ],
   "source": [
    "s1='abcd'\n",
    "s2='absd'\n",
    "print(s1>s2)\n",
    "print(s1<s2)"
   ]
  },
  {
   "cell_type": "code",
   "execution_count": 37,
   "id": "8f0a3c1c-48ed-46d9-a8d3-38aa53af4f32",
   "metadata": {},
   "outputs": [
    {
     "name": "stdout",
     "output_type": "stream",
     "text": [
      "False\n",
      "True\n"
     ]
    }
   ],
   "source": [
    "s1='abc'\n",
    "s2='abcd'\n",
    "print(s1>s2)\n",
    "print(s1<s2)"
   ]
  },
  {
   "cell_type": "code",
   "execution_count": 38,
   "id": "35583dcf-5f51-4efc-9a51-137368085c7b",
   "metadata": {},
   "outputs": [
    {
     "name": "stdout",
     "output_type": "stream",
     "text": [
      "True\n",
      "False\n"
     ]
    }
   ],
   "source": [
    "s1='abd'\n",
    "s2='abcd'\n",
    "print(s1>s2)\n",
    "print(s1<s2)"
   ]
  },
  {
   "cell_type": "code",
   "execution_count": 41,
   "id": "ee6bcd1a-ef3f-4b7a-a868-49b7cac682e6",
   "metadata": {},
   "outputs": [
    {
     "name": "stdout",
     "output_type": "stream",
     "text": [
      "['c', 'o', 'd', 'e', 'g', 'n', 'a', 'n']\n",
      "c_o_d_e_g_n_a_n\n"
     ]
    }
   ],
   "source": [
    "#converting string into list\n",
    "l=list('codegnan')\n",
    "print(l)\n",
    "#join()\n",
    "print('_'.join(l))"
   ]
  }
 ],
 "metadata": {
  "kernelspec": {
   "display_name": "Python 3 (ipykernel)",
   "language": "python",
   "name": "python3"
  },
  "language_info": {
   "codemirror_mode": {
    "name": "ipython",
    "version": 3
   },
   "file_extension": ".py",
   "mimetype": "text/x-python",
   "name": "python",
   "nbconvert_exporter": "python",
   "pygments_lexer": "ipython3",
   "version": "3.13.5"
  }
 },
 "nbformat": 4,
 "nbformat_minor": 5
}
