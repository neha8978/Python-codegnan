{
 "cells": [
  {
   "cell_type": "markdown",
   "id": "567ae871-6f89-4c19-8944-b607a814f232",
   "metadata": {},
   "source": [
    "### Tuple\n",
    "- Tuple is ordered collection of different data type values or elements\n",
    "- denoted by '()'\n",
    "- tuple is **immutable**\n",
    "- Tuple is index based and supports slicing\n",
    "- Tuple is Hetrogenous datatype\n",
    "- Tuple allow duplicate elements"
   ]
  },
  {
   "cell_type": "code",
   "execution_count": 4,
   "id": "ea250931-444a-4228-bce1-2bc3c00e2280",
   "metadata": {},
   "outputs": [],
   "source": [
    "# example\n",
    "t=(1,2,3,'a','b','codegnan',[4,5,6],7,1,2.5)"
   ]
  },
  {
   "cell_type": "code",
   "execution_count": 5,
   "id": "94db5d15-58e8-4bb5-a702-ec07638a90d0",
   "metadata": {},
   "outputs": [
    {
     "data": {
      "text/plain": [
       "1"
      ]
     },
     "execution_count": 5,
     "metadata": {},
     "output_type": "execute_result"
    }
   ],
   "source": [
    "# immutable\n",
    "t[0]"
   ]
  },
  {
   "cell_type": "code",
   "execution_count": 6,
   "id": "9a9d544e-a78c-414f-93e7-e27c629ff4c6",
   "metadata": {},
   "outputs": [
    {
     "ename": "TypeError",
     "evalue": "'tuple' object does not support item assignment",
     "output_type": "error",
     "traceback": [
      "\u001b[31m---------------------------------------------------------------------------\u001b[39m",
      "\u001b[31mTypeError\u001b[39m                                 Traceback (most recent call last)",
      "\u001b[36mCell\u001b[39m\u001b[36m \u001b[39m\u001b[32mIn[6]\u001b[39m\u001b[32m, line 1\u001b[39m\n\u001b[32m----> \u001b[39m\u001b[32m1\u001b[39m \u001b[43mt\u001b[49m\u001b[43m[\u001b[49m\u001b[32;43m0\u001b[39;49m\u001b[43m]\u001b[49m=\u001b[32m100\u001b[39m\n",
      "\u001b[31mTypeError\u001b[39m: 'tuple' object does not support item assignment"
     ]
    }
   ],
   "source": [
    "t[0]=100"
   ]
  },
  {
   "cell_type": "code",
   "execution_count": 17,
   "id": "8cab7024-6d43-42c4-8bc2-d262f16acb58",
   "metadata": {},
   "outputs": [
    {
     "name": "stdout",
     "output_type": "stream",
     "text": [
      "b\n",
      "[4, 5, 6]\n",
      "(3, 'a', 'b', 'codegnan', [4, 5, 6])\n",
      "()\n",
      "(1, 7)\n",
      "('b', 'codegnan', [4, 5, 6], 7, 1, 2.5)\n"
     ]
    }
   ],
   "source": [
    "#index based and slicable\n",
    "  #0,1,2,3,  4,    5,        6,     7,8,9\n",
    "t=(1,2,3,'a','b','codegnan',[4,5,6],7,1,2.5)\n",
    "#-10,-9,-8,-7,-6,-5        ,-4  ,-3,2,-1 \n",
    "print(t[4])\n",
    "print(t[-4])\n",
    "print(t[2:-3:1]) \n",
    "print(t[-2:6:1]) #(8:6:1) start position 8 by incrementing step count we cannot reach end position so it returns empty ()\n",
    "print(t[-2:6:-1])\n",
    "print(t[4:100]) # finite loop"
   ]
  },
  {
   "cell_type": "code",
   "execution_count": 22,
   "id": "842880c9-a429-4dc0-ae21-8fb292de9f95",
   "metadata": {},
   "outputs": [
    {
     "name": "stdout",
     "output_type": "stream",
     "text": [
      "()\n",
      "()\n",
      "(1, 2, 'codegnan')\n",
      "34\n",
      "<class 'tuple'> <class 'tuple'> <class 'tuple'> <class 'int'>\n"
     ]
    }
   ],
   "source": [
    "#empty tuple using ()\n",
    "t1=()\n",
    "print(t1)\n",
    "#empty tuple using tuple()\n",
    "t2=tuple()\n",
    "print(t2)\n",
    "# tuple with multiple values\n",
    "t3=(1,2,\"codegnan\")\n",
    "print(t3)\n",
    "#tuple with single values\n",
    "t4=(34)\n",
    "print(t4)\n",
    "# check  datatype\n",
    "print(type(t1),type(t2),type(t3),type(t4))"
   ]
  },
  {
   "cell_type": "code",
   "execution_count": 25,
   "id": "21cf4197-98b6-401a-b554-5870159c1e5f",
   "metadata": {},
   "outputs": [
    {
     "name": "stdin",
     "output_type": "stream",
     "text": [
      " 1 2 3\n"
     ]
    },
    {
     "data": {
      "text/plain": [
       "(1, 2, 3)"
      ]
     },
     "execution_count": 25,
     "metadata": {},
     "output_type": "execute_result"
    }
   ],
   "source": [
    "# read tuple from user-multiple value\n",
    "t = tuple(map(int,input().split()))\n",
    "t"
   ]
  },
  {
   "cell_type": "code",
   "execution_count": 26,
   "id": "4addd8f2-76f1-4b75-a16c-9c60dc9caacb",
   "metadata": {},
   "outputs": [
    {
     "name": "stdin",
     "output_type": "stream",
     "text": [
      " 10\n"
     ]
    },
    {
     "data": {
      "text/plain": [
       "(10,)"
      ]
     },
     "execution_count": 26,
     "metadata": {},
     "output_type": "execute_result"
    }
   ],
   "source": [
    "# read tuple from user -single value\n",
    "t = tuple(map(int,input().split()))\n",
    "t"
   ]
  },
  {
   "cell_type": "code",
   "execution_count": 27,
   "id": "49f281f7-0fa3-4ab6-8781-86c1007bc30d",
   "metadata": {},
   "outputs": [
    {
     "data": {
      "text/plain": [
       "(1, 2, 'hi', 3, 4, 'bye')"
      ]
     },
     "execution_count": 27,
     "metadata": {},
     "output_type": "execute_result"
    }
   ],
   "source": [
    "#tuple concatenation using '+'\n",
    "t1=(1,2,'hi')\n",
    "t2=(3,4,'bye')\n",
    "t1+t2"
   ]
  },
  {
   "cell_type": "code",
   "execution_count": 28,
   "id": "f44b4bd2-b747-4154-8cb7-878ab05f1cfb",
   "metadata": {},
   "outputs": [
    {
     "data": {
      "text/plain": [
       "(1, 2, 'hi', 1, 2, 'hi', 1, 2, 'hi')"
      ]
     },
     "execution_count": 28,
     "metadata": {},
     "output_type": "execute_result"
    }
   ],
   "source": [
    "#tuple repeating using * operator\n",
    "t1=(1,2,'hi')\n",
    "t1*3"
   ]
  },
  {
   "cell_type": "markdown",
   "id": "3687150f-d19b-4f66-a260-c4eb6704c8e2",
   "metadata": {},
   "source": [
    "### Tuple methods\n",
    "- index(value) - returns the position of a value otherwise valueError\n",
    "- count(value) - returns the occurence of a avalue in the tuple\n"
   ]
  },
  {
   "cell_type": "code",
   "execution_count": 32,
   "id": "ccff8342-08e0-4b59-a175-e6a3b371d09c",
   "metadata": {},
   "outputs": [
    {
     "name": "stdout",
     "output_type": "stream",
     "text": [
      "index of 1 element:  3\n",
      "count of 1 element:  2\n"
     ]
    }
   ],
   "source": [
    "#index(value)\n",
    "t=(1,2,3,'a','b','codegnan',[4,5,6],7,1,2.5)\n",
    "t1= t.index('a')\n",
    "print(\"index of 1 element: \",t1)\n",
    "#count(value())\n",
    "t2=t.count(1)\n",
    "print(\"count of 1 element: \",t2)"
   ]
  },
  {
   "cell_type": "code",
   "execution_count": 35,
   "id": "b972790a-fa7d-4693-8726-e613c4a23c2c",
   "metadata": {},
   "outputs": [
    {
     "name": "stdin",
     "output_type": "stream",
     "text": [
      " 10 2 3 2\n"
     ]
    },
    {
     "name": "stdout",
     "output_type": "stream",
     "text": [
      "count of 2 element:  2\n"
     ]
    }
   ],
   "source": [
    "t3=tuple(map(int,input().split()))\n",
    "t4=t3.count(2)\n",
    "print(\"count of 2 element: \",t4)"
   ]
  },
  {
   "cell_type": "code",
   "execution_count": 37,
   "id": "dd2a3c41-f03a-491b-94b4-9cb37ed2b3a8",
   "metadata": {},
   "outputs": [
    {
     "name": "stdout",
     "output_type": "stream",
     "text": [
      "min_value: 1\n",
      "max_value: 5432\n",
      "sum_value: 5867\n",
      "len_value: 4\n"
     ]
    }
   ],
   "source": [
    "#Build in fuctions\n",
    "#min(),max(),sum(),len()\n",
    "t=(1,2,432,5432)\n",
    "print('min_value:',min(t))\n",
    "print('max_value:',max(t))\n",
    "print('sum_value:',sum(t))\n",
    "print('len_value:',len(t))"
   ]
  },
  {
   "cell_type": "code",
   "execution_count": 39,
   "id": "7cfaac12-221e-44b6-95ba-362e87c39170",
   "metadata": {},
   "outputs": [
    {
     "data": {
      "text/plain": [
       "[545, 90, 56, 45, 23, 1]"
      ]
     },
     "execution_count": 39,
     "metadata": {},
     "output_type": "execute_result"
    }
   ],
   "source": [
    "# sorted()\n",
    "t=(1,23,545,90,56,45)\n",
    "new_t=sorted(t,reverse=False)\n",
    "new_t"
   ]
  },
  {
   "cell_type": "code",
   "execution_count": null,
   "id": "aee065b8-e350-4e50-b4a5-3d913666b57c",
   "metadata": {},
   "outputs": [],
   "source": []
  }
 ],
 "metadata": {
  "kernelspec": {
   "display_name": "Python 3 (ipykernel)",
   "language": "python",
   "name": "python3"
  },
  "language_info": {
   "codemirror_mode": {
    "name": "ipython",
    "version": 3
   },
   "file_extension": ".py",
   "mimetype": "text/x-python",
   "name": "python",
   "nbconvert_exporter": "python",
   "pygments_lexer": "ipython3",
   "version": "3.13.5"
  }
 },
 "nbformat": 4,
 "nbformat_minor": 5
}
